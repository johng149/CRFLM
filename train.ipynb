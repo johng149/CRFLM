{
 "cells": [
  {
   "cell_type": "code",
   "execution_count": 1,
   "metadata": {},
   "outputs": [],
   "source": [
    "import torch\n",
    "from torch.nn.functional import pad\n",
    "from torch.utils.data import DataLoader, Dataset"
   ]
  },
  {
   "cell_type": "code",
   "execution_count": 2,
   "metadata": {},
   "outputs": [
    {
     "name": "stderr",
     "output_type": "stream",
     "text": [
      "/run/media/john/Secondary/Projects/ML/CRFLM/crf/lib/python3.11/site-packages/tqdm/auto.py:21: TqdmWarning: IProgress not found. Please update jupyter and ipywidgets. See https://ipywidgets.readthedocs.io/en/stable/user_install.html\n",
      "  from .autonotebook import tqdm as notebook_tqdm\n"
     ]
    }
   ],
   "source": [
    "from tqdm.auto import tqdm"
   ]
  },
  {
   "cell_type": "code",
   "execution_count": 3,
   "metadata": {},
   "outputs": [],
   "source": [
    "from models.model import CustomModel\n",
    "from models.model import CRFModel"
   ]
  },
  {
   "cell_type": "code",
   "execution_count": 4,
   "metadata": {},
   "outputs": [],
   "source": [
    "from datasets import load_from_disk"
   ]
  },
  {
   "cell_type": "code",
   "execution_count": 5,
   "metadata": {},
   "outputs": [],
   "source": [
    "import tokenmonster"
   ]
  },
  {
   "cell_type": "code",
   "execution_count": 6,
   "metadata": {},
   "outputs": [],
   "source": [
    "path = \"checkpoints/crf_model.pt\""
   ]
  },
  {
   "cell_type": "code",
   "execution_count": 7,
   "metadata": {},
   "outputs": [],
   "source": [
    "tokenizer_file = \"english-8000-balanced-v1\""
   ]
  },
  {
   "cell_type": "code",
   "execution_count": 8,
   "metadata": {},
   "outputs": [],
   "source": [
    "vocab = tokenmonster.load_multiprocess_safe(tokenizer_file)"
   ]
  },
  {
   "cell_type": "code",
   "execution_count": 9,
   "metadata": {},
   "outputs": [],
   "source": [
    "initial_vocab_size = len(vocab)"
   ]
  },
  {
   "cell_type": "code",
   "execution_count": 10,
   "metadata": {},
   "outputs": [],
   "source": [
    "# initial_vocab_size is 8000, so largest valid index is 7999"
   ]
  },
  {
   "cell_type": "code",
   "execution_count": 11,
   "metadata": {},
   "outputs": [],
   "source": [
    "pad_idx = initial_vocab_size # max valid index is now 8000\n",
    "eos_idx = initial_vocab_size + 1 # max valid index is now 8001"
   ]
  },
  {
   "cell_type": "code",
   "execution_count": 12,
   "metadata": {},
   "outputs": [],
   "source": [
    "vocab_size = initial_vocab_size + 2"
   ]
  },
  {
   "cell_type": "code",
   "execution_count": 13,
   "metadata": {},
   "outputs": [],
   "source": [
    "question_len = 256\n",
    "context_len = 512\n",
    "answer_len = 256\n",
    "assert context_len >= answer_len"
   ]
  },
  {
   "cell_type": "code",
   "execution_count": 14,
   "metadata": {},
   "outputs": [],
   "source": [
    "embedding_dim = 512\n",
    "num_heads = 8\n",
    "target_len = answer_len\n",
    "num_helix_layers = 1\n",
    "num_single_strand_layers = 1\n",
    "phm_factor = 4\n",
    "lm_head_phm_factor = 2\n",
    "beam = 32\n",
    "low_rank = 16"
   ]
  },
  {
   "cell_type": "code",
   "execution_count": 15,
   "metadata": {},
   "outputs": [],
   "source": [
    "squad_train_file = \"data/squad_train\"\n",
    "dolly_test_file = \"data/closed\""
   ]
  },
  {
   "cell_type": "code",
   "execution_count": 16,
   "metadata": {},
   "outputs": [],
   "source": [
    "device = 'cuda' if torch.cuda.is_available() else 'cpu'"
   ]
  },
  {
   "cell_type": "code",
   "execution_count": 17,
   "metadata": {},
   "outputs": [],
   "source": [
    "squad = load_from_disk(squad_train_file)\n",
    "dolly = load_from_disk(dolly_test_file)"
   ]
  },
  {
   "cell_type": "code",
   "execution_count": 18,
   "metadata": {},
   "outputs": [],
   "source": [
    "def collate_fn(batch, question_key, context_key, answer_key):\n",
    "    \"\"\"\n",
    "    Each batch has 3 elements: instruction, context, response\n",
    "    However since their lengths may vary, we need to pad them.\n",
    "\n",
    "    For response, must ensure that we add eos token and then begin padding.\n",
    "    \"\"\"\n",
    "    questions = []\n",
    "    contexts = []\n",
    "    answers = []\n",
    "\n",
    "    for elem in batch:\n",
    "        i = elem[question_key]\n",
    "        c = elem[context_key]\n",
    "        r = elem[answer_key]\n",
    "\n",
    "        questions.append(i)\n",
    "        contexts.append(c)\n",
    "        answers.append(r)\n",
    "\n",
    "    # Pad instructions to question_len\n",
    "    questions = [pad(i, (0, question_len - len(i)), value=pad_idx) for i in questions]\n",
    "\n",
    "    # Pad contexts to context_len\n",
    "    contexts = [pad(c, (0, context_len - len(c)), value=pad_idx) for c in contexts]\n",
    "\n",
    "    # Pad responses to answer_len\n",
    "    # though first making sure that eos token is added to end of each response\n",
    "    eos_append = torch.tensor([eos_idx])\n",
    "    answers = [torch.cat((r[:answer_len-1], eos_append)) for r in answers]\n",
    "    answers = [pad(r, (0, answer_len - len(r)), value=pad_idx) for r in answers]\n",
    "\n",
    "    return torch.stack(questions), torch.stack(contexts), torch.stack(answers)"
   ]
  },
  {
   "cell_type": "code",
   "execution_count": 19,
   "metadata": {},
   "outputs": [],
   "source": [
    "def dolly_collate_fn(batch):\n",
    "    return collate_fn(batch, \"instruction\", \"context\", \"response\")"
   ]
  },
  {
   "cell_type": "code",
   "execution_count": 20,
   "metadata": {},
   "outputs": [],
   "source": [
    "def squad_collate_fn(batch):\n",
    "    return collate_fn(batch, \"question\", \"context\", \"answers\")"
   ]
  },
  {
   "cell_type": "code",
   "execution_count": 21,
   "metadata": {},
   "outputs": [],
   "source": [
    "batch_size = 32"
   ]
  },
  {
   "cell_type": "code",
   "execution_count": 22,
   "metadata": {},
   "outputs": [],
   "source": [
    "dollyDataloader = DataLoader(dolly, batch_size=batch_size, shuffle=True, collate_fn=dolly_collate_fn)"
   ]
  },
  {
   "cell_type": "code",
   "execution_count": 23,
   "metadata": {},
   "outputs": [],
   "source": [
    "squadDataloader = DataLoader(squad, batch_size=batch_size, shuffle=True, collate_fn=squad_collate_fn)"
   ]
  },
  {
   "cell_type": "code",
   "execution_count": 24,
   "metadata": {},
   "outputs": [],
   "source": [
    "model = CustomModel(embedding_dim, num_heads, target_len, vocab_size, num_helix_layers=num_helix_layers, num_single_strand_layers=num_single_strand_layers, phm_factor=phm_factor, lm_head_phm_factor=lm_head_phm_factor)"
   ]
  },
  {
   "cell_type": "code",
   "execution_count": 25,
   "metadata": {},
   "outputs": [],
   "source": [
    "model = model.to(device)"
   ]
  },
  {
   "cell_type": "code",
   "execution_count": 26,
   "metadata": {},
   "outputs": [],
   "source": [
    "crf = CRFModel(model, vocab_size, beam, low_rank, pad_idx)"
   ]
  },
  {
   "cell_type": "code",
   "execution_count": 27,
   "metadata": {},
   "outputs": [],
   "source": [
    "crf = crf.to(device)"
   ]
  },
  {
   "cell_type": "code",
   "execution_count": 28,
   "metadata": {},
   "outputs": [
    {
     "name": "stdout",
     "output_type": "stream",
     "text": [
      "CRF has 9,059,400 trainable parameters\n"
     ]
    }
   ],
   "source": [
    "print(f'CRF has {sum(p.numel() for p in crf.parameters() if p.requires_grad):,} trainable parameters')"
   ]
  },
  {
   "cell_type": "code",
   "execution_count": 29,
   "metadata": {},
   "outputs": [],
   "source": [
    "from torch.optim import Adam"
   ]
  },
  {
   "cell_type": "code",
   "execution_count": 30,
   "metadata": {},
   "outputs": [],
   "source": [
    "optm = Adam(crf.parameters(), lr=0.001)"
   ]
  },
  {
   "cell_type": "code",
   "execution_count": 31,
   "metadata": {},
   "outputs": [],
   "source": [
    "from loss_functions.unlikelihood_loss import unlikelihood_loss"
   ]
  },
  {
   "cell_type": "code",
   "execution_count": 32,
   "metadata": {},
   "outputs": [],
   "source": [
    "k = 3"
   ]
  },
  {
   "cell_type": "code",
   "execution_count": 33,
   "metadata": {},
   "outputs": [],
   "source": [
    "epochs = 128"
   ]
  },
  {
   "cell_type": "code",
   "execution_count": 34,
   "metadata": {},
   "outputs": [],
   "source": [
    "losses = []"
   ]
  },
  {
   "cell_type": "code",
   "execution_count": 35,
   "metadata": {},
   "outputs": [],
   "source": [
    "squad_iter = iter(squadDataloader)\n",
    "dolly_iter = iter(dollyDataloader)"
   ]
  },
  {
   "cell_type": "code",
   "execution_count": 36,
   "metadata": {},
   "outputs": [],
   "source": [
    "# uncomment to load checkpoint\n",
    "checkpoint = torch.load(path)\n",
    "crf.load_state_dict(checkpoint['model_state_dict'])\n",
    "optm.load_state_dict(checkpoint['optimizer_state_dict'])\n",
    "losses = checkpoint['losses']"
   ]
  },
  {
   "cell_type": "code",
   "execution_count": 64,
   "metadata": {},
   "outputs": [
    {
     "name": "stderr",
     "output_type": "stream",
     "text": [
      "100%|██████████| 128/128 [01:24<00:00,  1.52it/s]\n"
     ]
    }
   ],
   "source": [
    "for epoch in tqdm(range(epochs)):\n",
    "    try:\n",
    "        batch = next(squad_iter)\n",
    "    except StopIteration:\n",
    "        squad_iter = iter(squadDataloader)\n",
    "        batch = next(squad_iter)\n",
    "    question, context, answer = batch\n",
    "    question = question.to(device)\n",
    "    context = context.to(device)\n",
    "    answer = answer.to(device)\n",
    "\n",
    "    logits, crf_losses = crf(question, context, answer)\n",
    "    unlike_loss = unlikelihood_loss(logits, answer, k, allow_self_repeats_idx=pad_idx)\n",
    "\n",
    "    logits = logits.reshape(-1, vocab_size)\n",
    "    logits_loss = torch.nn.functional.cross_entropy(logits, answer.reshape(-1), ignore_index=pad_idx)\n",
    "    total_loss = logits_loss + torch.sum(crf_losses) + unlike_loss\n",
    "\n",
    "    optm.zero_grad()\n",
    "    losses.append(total_loss.item())\n",
    "    total_loss.backward()\n",
    "    torch.nn.utils.clip_grad_norm_(crf.parameters(), 1.0)\n",
    "    optm.step()"
   ]
  },
  {
   "cell_type": "code",
   "execution_count": 65,
   "metadata": {},
   "outputs": [],
   "source": [
    "import matplotlib.pyplot as plt"
   ]
  },
  {
   "cell_type": "code",
   "execution_count": 66,
   "metadata": {},
   "outputs": [
    {
     "data": {
      "text/plain": [
       "[<matplotlib.lines.Line2D at 0x7f15a1f10490>]"
      ]
     },
     "execution_count": 66,
     "metadata": {},
     "output_type": "execute_result"
    },
    {
     "data": {
      "image/png": "[encoded data removed]",
      "text/plain": [
       "<Figure size 640x480 with 1 Axes>"
      ]
     },
     "metadata": {},
     "output_type": "display_data"
    }
   ],
   "source": [
    "# Plot the losses\n",
    "plt.plot(losses)"
   ]
  },
  {
   "cell_type": "code",
   "execution_count": 67,
   "metadata": {},
   "outputs": [
    {
     "name": "stdout",
     "output_type": "stream",
     "text": [
      "Saved checkpoint to checkpoints/crf_model.pt\n"
     ]
    }
   ],
   "source": [
    "# save general checkpoint to resume training later\n",
    "path = \"checkpoints/crf_model.pt\"\n",
    "torch.save({\n",
    "    'epoch': len(losses),\n",
    "    'model_state_dict': crf.state_dict(),\n",
    "    'optimizer_state_dict': optm.state_dict(),\n",
    "    'loss': losses[-1],\n",
    "    'losses': losses\n",
    "}, path)\n",
    "print(f\"Saved checkpoint to {path}\")"
   ]
  },
  {
   "cell_type": "code",
   "execution_count": null,
   "metadata": {},
   "outputs": [],
   "source": []
  }
 ],
 "metadata": {
  "kernelspec": {
   "display_name": "crf",
   "language": "python",
   "name": "python3"
  },
  "language_info": {
   "codemirror_mode": {
    "name": "ipython",
    "version": 3
   },
   "file_extension": ".py",
   "mimetype": "text/x-python",
   "name": "python",
   "nbconvert_exporter": "python",
   "pygments_lexer": "ipython3",
   "version": "3.11.5"
  },
  "orig_nbformat": 4
 },
 "nbformat": 4,
 "nbformat_minor": 2
}
