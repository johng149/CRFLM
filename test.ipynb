{
 "cells": [
  {
   "cell_type": "code",
   "execution_count": 92,
   "metadata": {},
   "outputs": [],
   "source": [
    "from models.crf import CRF\n",
    "from models.cosformer import CosformerAttention as Attention\n",
    "from models.fnet import FNet\n",
    "from models.phm import phm"
   ]
  },
  {
   "cell_type": "code",
   "execution_count": 93,
   "metadata": {},
   "outputs": [],
   "source": [
    "import torch"
   ]
  },
  {
   "cell_type": "code",
   "execution_count": 94,
   "metadata": {},
   "outputs": [],
   "source": [
    "# model is question-answering model which accepts a context and a question\n",
    "# usually, you would concatenate the context and question together, and pass it to the model\n",
    "# however, this one is a bit different, it accepts the context and question separately"
   ]
  },
  {
   "cell_type": "code",
   "execution_count": 95,
   "metadata": {},
   "outputs": [],
   "source": [
    "embedding_dim = 512\n",
    "num_heads = 8\n",
    "vocab_size = 5\n",
    "batch_size = 2\n",
    "context_len = 10\n",
    "question_len = 3"
   ]
  },
  {
   "cell_type": "code",
   "execution_count": 96,
   "metadata": {},
   "outputs": [],
   "source": [
    "context_input = Attention(embedding_dim, num_heads)"
   ]
  },
  {
   "cell_type": "code",
   "execution_count": 97,
   "metadata": {},
   "outputs": [],
   "source": [
    "context_fnet_mix = FNet()"
   ]
  },
  {
   "cell_type": "code",
   "execution_count": 98,
   "metadata": {},
   "outputs": [],
   "source": [
    "question_input = Attention(embedding_dim, num_heads)"
   ]
  },
  {
   "cell_type": "code",
   "execution_count": 99,
   "metadata": {},
   "outputs": [],
   "source": [
    "question_fnet_mix = FNet()"
   ]
  },
  {
   "cell_type": "code",
   "execution_count": 100,
   "metadata": {},
   "outputs": [],
   "source": [
    "context_to_question_cross = Attention(embedding_dim, num_heads)\n",
    "question_to_context_cross = Attention(embedding_dim, num_heads)"
   ]
  },
  {
   "cell_type": "code",
   "execution_count": 101,
   "metadata": {},
   "outputs": [],
   "source": [
    "after_cross_context = Attention(embedding_dim, num_heads)"
   ]
  },
  {
   "cell_type": "code",
   "execution_count": 102,
   "metadata": {},
   "outputs": [],
   "source": [
    "after_cross_question = Attention(embedding_dim, num_heads)"
   ]
  },
  {
   "cell_type": "code",
   "execution_count": 103,
   "metadata": {},
   "outputs": [],
   "source": [
    "final_question_to_context = Attention(embedding_dim, num_heads)"
   ]
  },
  {
   "cell_type": "code",
   "execution_count": 104,
   "metadata": {},
   "outputs": [],
   "source": [
    "output = torch.nn.Linear(embedding_dim, vocab_size)"
   ]
  },
  {
   "cell_type": "code",
   "execution_count": 105,
   "metadata": {},
   "outputs": [],
   "source": [
    "low_rank = 2\n",
    "beam = 2"
   ]
  },
  {
   "cell_type": "code",
   "execution_count": 106,
   "metadata": {},
   "outputs": [],
   "source": [
    "crf = CRF(vocab_size, beam, low_rank)"
   ]
  },
  {
   "cell_type": "code",
   "execution_count": 107,
   "metadata": {},
   "outputs": [],
   "source": [
    "def forward(context, question, targets):\n",
    "    c = context_input(context) + context\n",
    "    c = context_fnet_mix(c) + c\n",
    "\n",
    "    q = question_input(question) + question\n",
    "    q = question_fnet_mix(q) + q\n",
    "\n",
    "    c = question_to_context_cross(c, q, q) + c\n",
    "    q = context_to_question_cross(q, c, c) + q\n",
    "\n",
    "    c = after_cross_context(c) + c\n",
    "    q = after_cross_question(q) + q\n",
    "\n",
    "    c = final_question_to_context(c, q, q) + c\n",
    "\n",
    "    # cos former attention outputs (len, batch, dim)\n",
    "    # however we are expecting (batch, len, dim) so we transpose\n",
    "    c = c.transpose(0, 1)\n",
    "    \n",
    "    logits = output(c)\n",
    "    mask = ~targets.eq(-1)\n",
    "    crfLoss = crf(logits, targets, mask)\n",
    "\n",
    "    return logits, crfLoss"
   ]
  },
  {
   "cell_type": "code",
   "execution_count": 108,
   "metadata": {},
   "outputs": [],
   "source": [
    "test_context = torch.randn(batch_size, context_len, embedding_dim)\n",
    "test_question = torch.randn(batch_size, question_len, embedding_dim)\n",
    "test_targets = torch.randint(0, vocab_size, (batch_size, context_len))"
   ]
  },
  {
   "cell_type": "code",
   "execution_count": 109,
   "metadata": {},
   "outputs": [],
   "source": [
    "# cos former attention expects shape (len, batch, dim) so need to transpose\n",
    "test_context = test_context.transpose(0, 1)\n",
    "test_question = test_question.transpose(0, 1)"
   ]
  },
  {
   "cell_type": "code",
   "execution_count": 110,
   "metadata": {},
   "outputs": [],
   "source": [
    "logits, crfLoss = forward(test_context, test_question, test_targets)"
   ]
  },
  {
   "cell_type": "code",
   "execution_count": 112,
   "metadata": {},
   "outputs": [
    {
     "data": {
      "text/plain": [
       "tensor([-376.4216, -269.3660], grad_fn=<SubBackward0>)"
      ]
     },
     "execution_count": 112,
     "metadata": {},
     "output_type": "execute_result"
    }
   ],
   "source": [
    "crfLoss"
   ]
  },
  {
   "cell_type": "code",
   "execution_count": null,
   "metadata": {},
   "outputs": [],
   "source": []
  }
 ],
 "metadata": {
  "kernelspec": {
   "display_name": "crf",
   "language": "python",
   "name": "python3"
  },
  "language_info": {
   "codemirror_mode": {
    "name": "ipython",
    "version": 3
   },
   "file_extension": ".py",
   "mimetype": "text/x-python",
   "name": "python",
   "nbconvert_exporter": "python",
   "pygments_lexer": "ipython3",
   "version": "3.10.6"
  }
 },
 "nbformat": 4,
 "nbformat_minor": 2
}
