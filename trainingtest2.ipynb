{
 "cells": [
  {
   "cell_type": "code",
   "execution_count": 1,
   "metadata": {},
   "outputs": [],
   "source": [
    "import torch\n",
    "from torch.nn.functional import pad\n",
    "from torch.utils.data import DataLoader, Dataset"
   ]
  },
  {
   "cell_type": "code",
   "execution_count": 2,
   "metadata": {},
   "outputs": [],
   "source": [
    "from tqdm.notebook import tqdm"
   ]
  },
  {
   "cell_type": "code",
   "execution_count": 3,
   "metadata": {},
   "outputs": [],
   "source": [
    "from models.model import CustomModelNoDownsize as CustomModel\n",
    "from models.model import CRFModelV2 as CRFModel"
   ]
  },
  {
   "cell_type": "code",
   "execution_count": 4,
   "metadata": {},
   "outputs": [],
   "source": [
    "from datasets import load_from_disk"
   ]
  },
  {
   "cell_type": "code",
   "execution_count": 5,
   "metadata": {},
   "outputs": [],
   "source": [
    "import tokenmonster"
   ]
  },
  {
   "cell_type": "code",
   "execution_count": 6,
   "metadata": {},
   "outputs": [],
   "source": [
    "tokenizer_file = \"english-8000-balanced-v1\""
   ]
  },
  {
   "cell_type": "code",
   "execution_count": 7,
   "metadata": {},
   "outputs": [],
   "source": [
    "vocab = tokenmonster.load_multiprocess_safe(tokenizer_file)"
   ]
  },
  {
   "cell_type": "code",
   "execution_count": 8,
   "metadata": {},
   "outputs": [],
   "source": [
    "initial_vocab_size = len(vocab)"
   ]
  },
  {
   "cell_type": "code",
   "execution_count": 9,
   "metadata": {},
   "outputs": [],
   "source": [
    "# initial_vocab_size is 8000, so largest valid index is 7999"
   ]
  },
  {
   "cell_type": "code",
   "execution_count": 10,
   "metadata": {},
   "outputs": [],
   "source": [
    "pad_idx = initial_vocab_size # max valid index is now 8000\n",
    "eos_idx = initial_vocab_size + 1 # max valid index is now 8001"
   ]
  },
  {
   "cell_type": "code",
   "execution_count": 11,
   "metadata": {},
   "outputs": [],
   "source": [
    "vocab_size = initial_vocab_size + 2"
   ]
  },
  {
   "cell_type": "code",
   "execution_count": 12,
   "metadata": {},
   "outputs": [],
   "source": [
    "question_len = 256\n",
    "context_len = 512\n",
    "answer_len = 100\n",
    "assert context_len >= answer_len"
   ]
  },
  {
   "cell_type": "code",
   "execution_count": 13,
   "metadata": {},
   "outputs": [],
   "source": [
    "embedding_dim = 512\n",
    "num_heads = 8\n",
    "num_helix_layers = 1\n",
    "num_single_strand_layers = 1\n",
    "phm_factor = 4\n",
    "lm_head_phm_factor = 2\n",
    "beam = 32\n",
    "low_rank = 16\n",
    "batch_size = 1\n",
    "gradient_accumulation_steps = 52\n",
    "device = 'cuda' if torch.cuda.is_available() else 'cpu'"
   ]
  },
  {
   "cell_type": "code",
   "execution_count": 14,
   "metadata": {},
   "outputs": [
    {
     "name": "stdout",
     "output_type": "stream",
     "text": [
      "Using device: cuda\n"
     ]
    }
   ],
   "source": [
    "print(f\"Using device: {device}\")"
   ]
  },
  {
   "cell_type": "code",
   "execution_count": 15,
   "metadata": {},
   "outputs": [],
   "source": [
    "checkpoint_dir = \"checkpoints\""
   ]
  },
  {
   "cell_type": "code",
   "execution_count": 16,
   "metadata": {},
   "outputs": [],
   "source": [
    "path = f\"{checkpoint_dir}/crf_model_test.pt\""
   ]
  },
  {
   "cell_type": "code",
   "execution_count": 17,
   "metadata": {},
   "outputs": [],
   "source": [
    "squad_train_file = \"data/squad_train\"\n",
    "dolly_test_file = \"data/closed\""
   ]
  },
  {
   "cell_type": "code",
   "execution_count": 18,
   "metadata": {},
   "outputs": [],
   "source": [
    "squad = load_from_disk(squad_train_file)\n",
    "dolly = load_from_disk(dolly_test_file)"
   ]
  },
  {
   "cell_type": "code",
   "execution_count": 19,
   "metadata": {},
   "outputs": [],
   "source": [
    "def collate_fn(batch, question_key, context_key, answer_key):\n",
    "    \"\"\"\n",
    "    Each batch has 3 elements: instruction, context, response\n",
    "    However since their lengths may vary, we need to pad them.\n",
    "\n",
    "    For response, must ensure that we add eos token and then begin padding.\n",
    "    \"\"\"\n",
    "    contexts = []\n",
    "    answers = []\n",
    "\n",
    "    for elem in batch:\n",
    "        i = elem[question_key]\n",
    "        c = elem[context_key]\n",
    "        r = elem[answer_key]\n",
    "\n",
    "        c = torch.cat((i, c))\n",
    "        contexts.append(c)\n",
    "        answers.append(r)\n",
    "\n",
    "\n",
    "    # Pad contexts to context_len\n",
    "    contexts = [pad(c, (0, (context_len+question_len) - len(c)), value=pad_idx) for c in contexts]\n",
    "\n",
    "    # Pad responses to answer_len\n",
    "    # though first making sure that eos token is added to end of each response\n",
    "    eos_append = torch.tensor([eos_idx])\n",
    "    answers = [torch.cat((r[:answer_len-1], eos_append)) for r in answers]\n",
    "    answers = [pad(r, (0, answer_len - len(r)), value=pad_idx) for r in answers]\n",
    "\n",
    "    return torch.stack(contexts), torch.stack(answers)"
   ]
  },
  {
   "cell_type": "code",
   "execution_count": 20,
   "metadata": {},
   "outputs": [],
   "source": [
    "def dolly_collate_fn(batch):\n",
    "    return collate_fn(batch, \"instruction\", \"context\", \"response\")"
   ]
  },
  {
   "cell_type": "code",
   "execution_count": 21,
   "metadata": {},
   "outputs": [],
   "source": [
    "def squad_collate_fn(batch):\n",
    "    return collate_fn(batch, \"question\", \"context\", \"answers\")"
   ]
  },
  {
   "cell_type": "code",
   "execution_count": 22,
   "metadata": {},
   "outputs": [],
   "source": [
    "dollyDataloader = DataLoader(dolly, batch_size=batch_size, shuffle=True)"
   ]
  },
  {
   "cell_type": "code",
   "execution_count": 23,
   "metadata": {},
   "outputs": [],
   "source": [
    "squadDataloader = DataLoader(squad, batch_size=batch_size, shuffle=True)"
   ]
  },
  {
   "cell_type": "code",
   "execution_count": 24,
   "metadata": {},
   "outputs": [],
   "source": [
    "from torch.optim import Adam\n",
    "import datetime\n",
    "import os"
   ]
  },
  {
   "cell_type": "code",
   "execution_count": 25,
   "metadata": {},
   "outputs": [],
   "source": [
    "def save_checkpoint(losses, model, crf, optm, tensorboard_log_dir):\n",
    "    # first check to see if checkpoint dir exists, if not, create it\n",
    "    if not os.path.exists(checkpoint_dir):\n",
    "        os.makedirs(checkpoint_dir)\n",
    "    torch.save({\n",
    "    'epoch': len(losses),\n",
    "    'model_state_dict': model.state_dict(),\n",
    "    'optimizer_state_dict': optm.state_dict(),\n",
    "    'loss': losses[-1],\n",
    "    'losses': losses,\n",
    "    'crf_state_dict': crf.state_dict(),\n",
    "    'model_kwargs': model.kwargs,\n",
    "    'crf_kwargs': crf.kwargs,\n",
    "    'tensorboard_log_dir': tensorboard_log_dir\n",
    "    }, path)\n",
    "def load_checkpoint(map_location=None):\n",
    "    checkpoint = torch.load(path, map_location=map_location)\n",
    "    model = CustomModel(**checkpoint['model_kwargs'])\n",
    "    crf = CRFModel(model=model, **checkpoint['crf_kwargs'])\n",
    "    model.load_state_dict(checkpoint['model_state_dict'])\n",
    "    crf.load_state_dict(checkpoint['crf_state_dict'])\n",
    "    model = model.to(device)\n",
    "    crf = crf.to(device)\n",
    "    optm = torch.optim.Adam(crf.parameters())\n",
    "    optm.load_state_dict(checkpoint['optimizer_state_dict'])\n",
    "    losses = checkpoint['losses']\n",
    "    log_dir = checkpoint['tensorboard_log_dir']\n",
    "    return losses, model, crf, optm, log_dir\n",
    "def try_loading():\n",
    "    \"\"\"\n",
    "    First try to load the model, if it doesn't exist, create one\n",
    "    based on the parameters specified above\n",
    "    \"\"\"\n",
    "    try:\n",
    "        losses, model, crf, optm, log_dir = load_checkpoint()\n",
    "        print(f\"Resuming, have seen {len(losses)} epochs\")\n",
    "        print(f\"Have {sum(p.numel() for p in crf.parameters() if p.requires_grad)} trainable parameters\")\n",
    "        print(f\"Logging to {log_dir}\")\n",
    "        return losses, model, crf, optm, log_dir\n",
    "    except FileNotFoundError:\n",
    "        # couldn't find model, probably because it doesn't exist\n",
    "        print(\"Couldn't find model, creating new one\")\n",
    "        model = CustomModel(embedding_dim, num_heads, vocab_size, num_helix_layers=num_helix_layers, num_single_strand_layers=num_single_strand_layers, phm_factor=phm_factor, lm_head_phm_factor=lm_head_phm_factor)\n",
    "        model = model.to(device)\n",
    "        crf = CRFModel(model, vocab_size, beam, low_rank, pad_idx)\n",
    "        crf = crf.to(device)\n",
    "        optm = Adam(crf.parameters(), lr=0.001)\n",
    "        losses = []\n",
    "        print(f\"Have {sum(p.numel() for p in crf.parameters() if p.requires_grad)} trainable parameters\")\n",
    "        # create a string to identify this model for tensorboard logging\n",
    "        now = datetime.datetime.now()\n",
    "        log_dir = f\"runs/run_at_{now.strftime('%Y-%m-%d_%H-%M-%S')}\"\n",
    "        print(f\"Logging to {log_dir}\")\n",
    "        return losses, model, crf, optm, log_dir\n",
    "    except RuntimeError:\n",
    "        # probably because model was saved on gpu and now we're using cpu\n",
    "        # so can still load it, but need to specify map_location\n",
    "        print(\"Model found but was saved on gpu, attempting to load on cpu\")\n",
    "        losses, model, crf, optm, log_dir = load_checkpoint(map_location='cpu')\n",
    "        print(f\"Resuming, have seen {len(losses)} epochs\")\n",
    "        print(f\"Have {sum(p.numel() for p in crf.parameters() if p.requires_grad)} trainable parameters\")\n",
    "        print(f\"Logging to {log_dir}\")\n",
    "        return losses, model, crf, optm, log_dir"
   ]
  },
  {
   "cell_type": "code",
   "execution_count": 26,
   "metadata": {},
   "outputs": [],
   "source": [
    "from loss_functions.unlikelihood_loss import unlikelihood_loss\n",
    "from loss_functions.nag_bert_loss import nag_bert_loss"
   ]
  },
  {
   "cell_type": "code",
   "execution_count": 27,
   "metadata": {},
   "outputs": [],
   "source": [
    "k = 3\n",
    "nll_loss_weight = 0.5"
   ]
  },
  {
   "cell_type": "code",
   "execution_count": 28,
   "metadata": {},
   "outputs": [
    {
     "name": "stdout",
     "output_type": "stream",
     "text": [
      "Couldn't find model, creating new one\n",
      "Have 10783810 trainable parameters\n",
      "Logging to runs/run_at_2023-11-25_11-54-12\n"
     ]
    }
   ],
   "source": [
    "losses, model, crf, optm, log_dir = try_loading()"
   ]
  },
  {
   "cell_type": "code",
   "execution_count": 29,
   "metadata": {},
   "outputs": [],
   "source": [
    "def custom_loss(logits, targets, crf_losses):\n",
    "    cross_entropy_loss = torch.nn.functional.cross_entropy(logits.reshape(-1, vocab_size), targets.view(-1), ignore_index=pad_idx, reduction='none').view(batch_size, answer_len)\n",
    "    target_padding_matrix = ~targets.eq(pad_idx)\n",
    "    target_padding_matrix = target_padding_matrix.type(cross_entropy_loss.type())\n",
    "    cross_entropy_loss = cross_entropy_loss * target_padding_matrix\n",
    "    summed_loss = cross_entropy_loss.sum(dim = -1)\n",
    "    one_step_train_loss = crf_losses + nll_loss_weight * summed_loss\n",
    "    scaled_train_loss = torch.sum(one_step_train_loss) / torch.sum(target_padding_matrix)\n",
    "    return scaled_train_loss"
   ]
  },
  {
   "cell_type": "code",
   "execution_count": 30,
   "metadata": {},
   "outputs": [],
   "source": [
    "def inference(c_sample,r_sample):\n",
    "    with torch.no_grad():\n",
    "        model_input_sample = torch.full_like(r_sample, pad_idx)\n",
    "        scores, tokens = crf.inference(c_sample, model_input_sample)\n",
    "    return tokens"
   ]
  },
  {
   "cell_type": "code",
   "execution_count": 31,
   "metadata": {},
   "outputs": [],
   "source": [
    "def special_decode(tokens):\n",
    "    # differs from vocab.decode in that it stops decoding when it sees eos_idx or pad_idx\n",
    "    filtered_tokens = []\n",
    "    for t in tokens:\n",
    "        if t == eos_idx or t == pad_idx:\n",
    "            break\n",
    "        else:\n",
    "            filtered_tokens.append(t)\n",
    "    return vocab.decode(filtered_tokens)"
   ]
  },
  {
   "cell_type": "code",
   "execution_count": 32,
   "metadata": {},
   "outputs": [],
   "source": [
    "# import adam optimizer\n",
    "from torch.optim import Adam\n",
    "optm = Adam(crf.parameters(), lr=0.001)"
   ]
  },
  {
   "cell_type": "code",
   "execution_count": 33,
   "metadata": {},
   "outputs": [],
   "source": [
    "cs = []\n",
    "rs = []\n",
    "squadIter = iter(squadDataloader)\n",
    "for step in range(gradient_accumulation_steps):\n",
    "    e = next(squadIter)\n",
    "    c = torch.cat((e[\"question\"].squeeze(0), e[\"context\"].squeeze(0)))\n",
    "    eos_append = torch.tensor([eos_idx])\n",
    "    r = e[\"answers\"].squeeze(0)\n",
    "    r = torch.cat((r[:answer_len-1], eos_append))\n",
    "    r = pad(r, (0, answer_len - len(r)), value=pad_idx)\n",
    "    cs.append(c)\n",
    "    rs.append(r)"
   ]
  },
  {
   "cell_type": "code",
   "execution_count": 34,
   "metadata": {},
   "outputs": [],
   "source": [
    "epochs = 150"
   ]
  },
  {
   "cell_type": "code",
   "execution_count": 35,
   "metadata": {},
   "outputs": [
    {
     "data": {
      "application/vnd.jupyter.widget-view+json": {
       "model_id": "c790f634347a4f85858b760cdcea6dfc",
       "version_major": 2,
       "version_minor": 0
      },
      "text/plain": [
       "  0%|          | 0/150 [00:00<?, ?it/s]"
      ]
     },
     "metadata": {},
     "output_type": "display_data"
    }
   ],
   "source": [
    "pbar = tqdm(range(epochs))\n",
    "for epoch in pbar:\n",
    "    optm.zero_grad()\n",
    "    accumulated_loss = 0\n",
    "    for step in range(gradient_accumulation_steps):\n",
    "        c = cs[step]\n",
    "        r = rs[step]\n",
    "        c = c.unsqueeze(0)\n",
    "        r = r.unsqueeze(0)\n",
    "        c = c.to(device)\n",
    "        r = r.to(device)\n",
    "        model_input = torch.full_like(r, pad_idx)\n",
    "        logits, crf_losses = crf(c, model_input, r)\n",
    "        loss = custom_loss(logits, r, crf_losses)\n",
    "        loss.backward()\n",
    "        with torch.no_grad():\n",
    "            accumulated_loss += loss.item()\n",
    "    optm.step()\n",
    "    accumulated_loss /= gradient_accumulation_steps\n",
    "    losses.append(accumulated_loss)\n",
    "    pbar.set_description(f\"Loss: {accumulated_loss}\")"
   ]
  },
  {
   "cell_type": "code",
   "execution_count": 50,
   "metadata": {},
   "outputs": [
    {
     "data": {
      "text/plain": [
       "[<matplotlib.lines.Line2D at 0x1453c776260>]"
      ]
     },
     "execution_count": 50,
     "metadata": {},
     "output_type": "execute_result"
    },
    {
     "data": {
      "image/png": "[encoded data removed]",
      "text/plain": [
       "<Figure size 640x480 with 1 Axes>"
      ]
     },
     "metadata": {},
     "output_type": "display_data"
    }
   ],
   "source": [
    "from matplotlib import pyplot as plt\n",
    "plt.plot(losses)"
   ]
  },
  {
   "cell_type": "code",
   "execution_count": 51,
   "metadata": {},
   "outputs": [],
   "source": [
    "# take sample of c and r to test model generation\n",
    "sample_i = 9\n",
    "assert sample_i < len(cs)\n",
    "c_sample = cs[sample_i].unsqueeze(0)\n",
    "r_sample = rs[sample_i].unsqueeze(0)"
   ]
  },
  {
   "cell_type": "code",
   "execution_count": 52,
   "metadata": {},
   "outputs": [],
   "source": [
    "c_sample = c_sample.to(device)\n",
    "r_sample = r_sample.to(device)"
   ]
  },
  {
   "cell_type": "code",
   "execution_count": 53,
   "metadata": {},
   "outputs": [],
   "source": [
    "tokens = inference(c_sample,r_sample).tolist()[0]"
   ]
  },
  {
   "cell_type": "code",
   "execution_count": 54,
   "metadata": {},
   "outputs": [
    {
     "data": {
      "text/plain": [
       "[332,\n",
       " 702,\n",
       " 37,\n",
       " 6000,\n",
       " 36,\n",
       " 6187,\n",
       " 438,\n",
       " 49,\n",
       " 8001,\n",
       " 438,\n",
       " 49,\n",
       " 8001,\n",
       " 833,\n",
       " 1781,\n",
       " 1781,\n",
       " 5655,\n",
       " 63,\n",
       " 8001,\n",
       " 2616,\n",
       " 8001,\n",
       " 1730,\n",
       " 1781,\n",
       " 5655,\n",
       " 63,\n",
       " 8001,\n",
       " 2616,\n",
       " 8001,\n",
       " 1156,\n",
       " 8001,\n",
       " 2616,\n",
       " 8001,\n",
       " 2616,\n",
       " 8001,\n",
       " 1156,\n",
       " 8001,\n",
       " 2616,\n",
       " 8001,\n",
       " 2616,\n",
       " 8001,\n",
       " 2616,\n",
       " 8001,\n",
       " 2616,\n",
       " 8001,\n",
       " 2616,\n",
       " 8001,\n",
       " 2616,\n",
       " 8001,\n",
       " 2616,\n",
       " 8001,\n",
       " 2616,\n",
       " 8001,\n",
       " 2616,\n",
       " 8001,\n",
       " 2616,\n",
       " 8001,\n",
       " 2616,\n",
       " 8001,\n",
       " 2616,\n",
       " 8001,\n",
       " 2616,\n",
       " 8001,\n",
       " 2616,\n",
       " 8001,\n",
       " 2616,\n",
       " 8001,\n",
       " 2616,\n",
       " 8001,\n",
       " 2616,\n",
       " 8001,\n",
       " 2616,\n",
       " 8001,\n",
       " 2616,\n",
       " 8001,\n",
       " 2227,\n",
       " 1730,\n",
       " 2602,\n",
       " 8001,\n",
       " 2227,\n",
       " 582,\n",
       " 53,\n",
       " 8001,\n",
       " 1136,\n",
       " 8001,\n",
       " 2227,\n",
       " 1136,\n",
       " 8001,\n",
       " 2227,\n",
       " 1730,\n",
       " 3805,\n",
       " 3541,\n",
       " 2092,\n",
       " 294,\n",
       " 3791,\n",
       " 1046,\n",
       " 4423,\n",
       " 5655,\n",
       " 7757,\n",
       " 645,\n",
       " 388,\n",
       " 7776]"
      ]
     },
     "execution_count": 54,
     "metadata": {},
     "output_type": "execute_result"
    }
   ],
   "source": [
    "tokens"
   ]
  },
  {
   "cell_type": "code",
   "execution_count": 41,
   "metadata": {},
   "outputs": [
    {
     "data": {
      "text/plain": [
       "\"What did Napoleon III and the royal couple visit? Napoleon III, since the Crimean War Britain's closest ally, visited London in April 1855, and from 17 to 28 August the same year Victoria and Albert returned the visit. Napoleon III met the couple at Dunkirk and accompanied them to Paris. They visited the Exposition Universelle (a successor to Albert's 1851 brainchild the Great Exhibition) and Napoleon I's tomb at Les Invalides (to which his remains had only been returned in 1840), and were guests of honour at a 1,200-guest ball at the Palace of Versailles.\""
      ]
     },
     "execution_count": 41,
     "metadata": {},
     "output_type": "execute_result"
    }
   ],
   "source": [
    "vocab.decode(c_sample.tolist()[0])"
   ]
  },
  {
   "cell_type": "code",
   "execution_count": 42,
   "metadata": {},
   "outputs": [
    {
     "data": {
      "text/plain": [
       "'Exposition Universelle'"
      ]
     },
     "execution_count": 42,
     "metadata": {},
     "output_type": "execute_result"
    }
   ],
   "source": [
    "special_decode(tokens)"
   ]
  },
  {
   "cell_type": "code",
   "execution_count": 43,
   "metadata": {},
   "outputs": [
    {
     "data": {
      "text/plain": [
       "'Exposition Universelle'"
      ]
     },
     "execution_count": 43,
     "metadata": {},
     "output_type": "execute_result"
    }
   ],
   "source": [
    "vocab.decode(r_sample.tolist()[0])"
   ]
  },
  {
   "cell_type": "code",
   "execution_count": 60,
   "metadata": {},
   "outputs": [],
   "source": [
    "custom_input = \"What did Napoleon III and the royal couple visit? Napoleon III, since the Crimean War Britain's closest ally, visited London in April 1855, and from 17 to 28 August the same year Victoria and Albert returned the visit. Napoleon III met the couple at Dunkirk and accompanied them to Paris. They visited the Exposition Universelle (a successor to Albert's 1851 brainchild the Great Exhibition) and Napoleon I's tomb at Les Invalides (to which his remains had only been returned in 1840), and were guests of honour at a 1,200-guest ball at the Palace of Versailles.\""
   ]
  },
  {
   "cell_type": "code",
   "execution_count": 61,
   "metadata": {},
   "outputs": [],
   "source": [
    "encoded = vocab.tokenize(custom_input)"
   ]
  },
  {
   "cell_type": "code",
   "execution_count": 62,
   "metadata": {},
   "outputs": [
    {
     "data": {
      "text/plain": [
       "array([ 332, 2777, 1389, 1957,   37, 1664,   49,  468, 2009,   53, 4757,\n",
       "        791,  531,   56, 3978, 3636,  331,  761,   37, 1664,   49,  468,\n",
       "       2009,   53,   15, 6718,   36, 1364,   37, 2521, 2900,   36, 1324,\n",
       "       2114,  275, 3137,  504,    3, 2031,   15, 3636,  380, 5519,  727,\n",
       "       4607,  604,   24,   24, 2821, 2373,  603,  815,  615, 5497, 6150,\n",
       "       2796, 6889, 1263, 1925, 2038, 6059, 1788, 3636,  300,  761,   37,\n",
       "       1664,   49,  468, 2009,   53, 1592, 1788, 3978,  655,   36,  231,\n",
       "         37,  821,  429,  487, 1263,  644,   37, 1356,   37, 1644, 1042,\n",
       "       5342, 4631, 4594, 3636, 3786,   36,  702,   37, 6000,   36, 6187,\n",
       "        438,   49, 2165, 5310,  470,  815, 1925, 2038,  275,  604,   24,\n",
       "         20, 3101,   37, 3128, 1788, 4616,   36, 7063, 2816, 1957,   37,\n",
       "       1664,   49,  468,  915,  275, 1797,   46,  655,   36, 1562,   36,\n",
       "        727,   37, 3632,  388,  586, 6175, 1505, 5243, 1490, 2565, 2222,\n",
       "       6059,  727,  604,   23,   19, 3685, 2775, 3260, 2103, 1509,   37,\n",
       "       1638, 2208,  595,   37, 1237,  294, 3260, 2214, 3898,   36, 1643,\n",
       "        344, 2051, 2899,   37, 2642, 1076,   17], dtype=uint16)"
      ]
     },
     "execution_count": 62,
     "metadata": {},
     "output_type": "execute_result"
    }
   ],
   "source": [
    "encoded"
   ]
  },
  {
   "cell_type": "code",
   "execution_count": 63,
   "metadata": {},
   "outputs": [],
   "source": [
    "# encoded from uint16 to int32\n",
    "encoded = encoded.astype('int32')"
   ]
  },
  {
   "cell_type": "code",
   "execution_count": 64,
   "metadata": {},
   "outputs": [],
   "source": [
    "encoded = torch.tensor(encoded).unsqueeze(0)"
   ]
  },
  {
   "cell_type": "code",
   "execution_count": 65,
   "metadata": {},
   "outputs": [
    {
     "data": {
      "text/plain": [
       "torch.Size([1, 172])"
      ]
     },
     "execution_count": 65,
     "metadata": {},
     "output_type": "execute_result"
    }
   ],
   "source": [
    "encoded.shape"
   ]
  },
  {
   "cell_type": "code",
   "execution_count": 71,
   "metadata": {},
   "outputs": [
    {
     "data": {
      "text/plain": [
       "tensor([[ 332, 2777, 1389, 1957,   37, 1664,   49,  468, 2009,   53, 4757,  791,\n",
       "          531,   56, 3978, 3636,  331,  761,   37, 1664,   49,  468, 2009,   53,\n",
       "           15, 6718,   36, 1364,   37, 2521, 2900,   36, 1324, 2114,  275, 3137,\n",
       "          504,    3, 2031,   15, 3636,  380, 5519,  727, 4607,  604,   24,   24,\n",
       "         2821, 2373,  603,  815,  615, 5497, 6150, 2796, 6889, 1263, 1925, 2038,\n",
       "         6059, 1788, 3636,  300,  761,   37, 1664,   49,  468, 2009,   53, 1592,\n",
       "         1788, 3978,  655,   36,  231,   37,  821,  429,  487, 1263,  644,   37,\n",
       "         1356,   37, 1644, 1042, 5342, 4631, 4594, 3636, 3786,   36,  702,   37,\n",
       "         6000,   36, 6187,  438,   49, 2165, 5310,  470,  815, 1925, 2038,  275,\n",
       "          604,   24,   20, 3101,   37, 3128, 1788, 4616,   36, 7063, 2816, 1957,\n",
       "           37, 1664,   49,  468,  915,  275, 1797,   46,  655,   36, 1562,   36,\n",
       "          727,   37, 3632,  388,  586, 6175, 1505, 5243, 1490, 2565, 2222, 6059,\n",
       "          727,  604,   23,   19, 3685, 2775, 3260, 2103, 1509,   37, 1638, 2208,\n",
       "          595,   37, 1237,  294, 3260, 2214, 3898,   36, 1643,  344, 2051, 2899,\n",
       "           37, 2642, 1076,   17]], dtype=torch.int32)"
      ]
     },
     "execution_count": 71,
     "metadata": {},
     "output_type": "execute_result"
    }
   ],
   "source": [
    "encoded"
   ]
  },
  {
   "cell_type": "code",
   "execution_count": 72,
   "metadata": {},
   "outputs": [
    {
     "data": {
      "text/plain": [
       "tensor([[ 332, 2777, 1389, 1957,   37, 1664,   49,  468, 2009,   53, 4757,  791,\n",
       "          531,   56, 3978, 3636,   34,    3,  332,  761,   37, 1664,   49,  468,\n",
       "         2009,   53,   15, 6718,   36, 1364,   37, 2521, 2900,   36, 1324, 2114,\n",
       "          275, 3137,  504,    3, 2031,   15, 3636,  380, 5519,  727, 4607,  604,\n",
       "           24,   24, 2821, 2373,  603,  815,  615, 5497, 6150, 2796, 6889, 1263,\n",
       "         1925, 2038, 6059, 1788, 3636,  300,  761,   37, 1664,   49,  468, 2009,\n",
       "           53, 1592, 1788, 3978,  655,   36,  231,   37,  821,  429,  487, 1263,\n",
       "          644,   37, 1356,   37, 1644, 1042, 5342, 4631, 4594, 3636, 3786,   36,\n",
       "          702,   37, 6000,   36, 6187,  438,   49, 2165, 5310,  470,  815, 1925,\n",
       "         2038,  275,  604,   24,   20, 3101,   37, 3128, 1788, 4616,   36, 7063,\n",
       "         2816, 1957,   37, 1664,   49,  468,  915,  275, 1797,   46,  655,   36,\n",
       "         1562,   36,  727,   37, 3632,  388,  586, 6175, 1505, 5243, 1490, 2565,\n",
       "         2222, 6059,  727,  604,   23,   19, 3685, 2775, 3260, 2103, 1509,   37,\n",
       "         1638, 2208,  595,   37, 1237,  294, 3260, 2214, 3898,   36, 1643,  344,\n",
       "         2051, 2899,   37, 2642, 1076,   17]], device='cuda:0')"
      ]
     },
     "execution_count": 72,
     "metadata": {},
     "output_type": "execute_result"
    }
   ],
   "source": [
    "c_sample"
   ]
  },
  {
   "cell_type": "code",
   "execution_count": 75,
   "metadata": {},
   "outputs": [
    {
     "data": {
      "text/plain": [
       "'torch.cuda.LongTensor'"
      ]
     },
     "execution_count": 75,
     "metadata": {},
     "output_type": "execute_result"
    }
   ],
   "source": [
    "c_sample.type()"
   ]
  },
  {
   "cell_type": "code",
   "execution_count": 77,
   "metadata": {},
   "outputs": [],
   "source": [
    "encoded = encoded.type(c_sample.type())"
   ]
  },
  {
   "cell_type": "code",
   "execution_count": 78,
   "metadata": {},
   "outputs": [
    {
     "ename": "RuntimeError",
     "evalue": "The size of tensor a (172) must match the size of tensor b (174) at non-singleton dimension 1",
     "output_type": "error",
     "traceback": [
      "\u001b[1;31m---------------------------------------------------------------------------\u001b[0m",
      "\u001b[1;31mRuntimeError\u001b[0m                              Traceback (most recent call last)",
      "\u001b[1;32mg:\\Projects\\Visual Studio Code\\CRFLM\\trainingtest2.ipynb Cell 54\u001b[0m line \u001b[0;36m1\n\u001b[1;32m----> <a href='vscode-notebook-cell:/g%3A/Projects/Visual%20Studio%20Code/CRFLM/trainingtest2.ipynb#Y136sZmlsZQ%3D%3D?line=0'>1</a>\u001b[0m torch\u001b[39m.\u001b[39;49mallclose(encoded, c_sample)\n",
      "\u001b[1;31mRuntimeError\u001b[0m: The size of tensor a (172) must match the size of tensor b (174) at non-singleton dimension 1"
     ]
    }
   ],
   "source": [
    "torch.allclose(encoded, c_sample)"
   ]
  },
  {
   "cell_type": "code",
   "execution_count": 66,
   "metadata": {},
   "outputs": [],
   "source": [
    "dummy_r = torch.zeros((1, answer_len), dtype=torch.int32)"
   ]
  },
  {
   "cell_type": "code",
   "execution_count": 67,
   "metadata": {},
   "outputs": [],
   "source": [
    "custom_output = inference(encoded.to(device), dummy_r.to(device))"
   ]
  },
  {
   "cell_type": "code",
   "execution_count": 68,
   "metadata": {},
   "outputs": [
    {
     "data": {
      "text/plain": [
       "tensor([[ 332,  702,   37, 6000,   36, 6187,  438,   49, 1781, 1781,   49, 8001,\n",
       "         6000,   36, 6187, 8001,   49,   63, 8001, 1156, 8001, 2616, 8001, 1156,\n",
       "         8001, 1156, 8001, 1156, 8001, 1156, 8001, 1156, 8001, 1156, 8001, 1156,\n",
       "         8001, 1156, 8001, 1156, 8001, 2616, 8001, 2616, 8001, 2616, 8001, 2616,\n",
       "         8001, 2616, 8001, 2616, 8001, 2616, 8001, 1156, 8001, 2616, 8001, 2616,\n",
       "         8001, 2616, 8001, 2616, 8001, 2616, 8001, 2616, 8001, 2616, 8001, 2227,\n",
       "          582, 8001, 2227,  582, 8001, 2227,  582, 8001, 2227, 1730, 2602, 8001,\n",
       "         1136, 8001, 2616, 5368,   63, 8001, 5533,  294, 3791, 1046, 1156, 2200,\n",
       "         3388,  766,  265, 6499]], device='cuda:0')"
      ]
     },
     "execution_count": 68,
     "metadata": {},
     "output_type": "execute_result"
    }
   ],
   "source": [
    "custom_output"
   ]
  },
  {
   "cell_type": "code",
   "execution_count": 69,
   "metadata": {},
   "outputs": [
    {
     "data": {
      "text/plain": [
       "'Exposition Universelle tar tare'"
      ]
     },
     "execution_count": 69,
     "metadata": {},
     "output_type": "execute_result"
    }
   ],
   "source": [
    "special_decode(custom_output.tolist()[0])"
   ]
  },
  {
   "cell_type": "code",
   "execution_count": null,
   "metadata": {},
   "outputs": [],
   "source": []
  }
 ],
 "metadata": {
  "kernelspec": {
   "display_name": "crf",
   "language": "python",
   "name": "python3"
  },
  "language_info": {
   "codemirror_mode": {
    "name": "ipython",
    "version": 3
   },
   "file_extension": ".py",
   "mimetype": "text/x-python",
   "name": "python",
   "nbconvert_exporter": "python",
   "pygments_lexer": "ipython3",
   "version": "3.10.6"
  }
 },
 "nbformat": 4,
 "nbformat_minor": 2
}
